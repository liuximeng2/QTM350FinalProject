{
 "cells": [
  {
   "cell_type": "code",
   "execution_count": 5,
   "metadata": {},
   "outputs": [],
   "source": [
    "import wbgapi as wb\n",
    "import pandas as pd\n",
    "import os\n",
    "\n",
    "os.chdir('/Users/mansol/Desktop/FALL_2024/QTM_350/QTM350FinalProject')\n",
    "\n",
    "def fetch_data(indicators, directory):\n",
    "    data = {}\n",
    "    for indicator in indicators:\n",
    "        data[indicator] = wb.data.fetch(indicator)\n",
    "\n",
    "    df_list = []\n",
    "    for indicator, records in data.items():\n",
    "        df = pd.DataFrame.from_records(records)\n",
    "        df['indicator'] = indicator\n",
    "        df_list.append(df)\n",
    "\n",
    "    result_df = pd.concat(df_list, ignore_index=True)\n",
    "    result_df.to_csv(directory, index=False)\n",
    "\n",
    "    print(result_df)"
   ]
  },
  {
   "cell_type": "code",
   "execution_count": null,
   "metadata": {},
   "outputs": [
    {
     "name": "stdout",
     "output_type": "stream",
     "text": [
      "             value          series economy  aggregate    time       indicator\n",
      "0      1383.233130  NY.GDP.PCAP.KD     ZWE      False  YR2023  NY.GDP.PCAP.KD\n",
      "1      1345.769083  NY.GDP.PCAP.KD     ZWE      False  YR2022  NY.GDP.PCAP.KD\n",
      "2      1289.199067  NY.GDP.PCAP.KD     ZWE      False  YR2021  NY.GDP.PCAP.KD\n",
      "3      1213.117057  NY.GDP.PCAP.KD     ZWE      False  YR2020  NY.GDP.PCAP.KD\n",
      "4      1342.989586  NY.GDP.PCAP.KD     ZWE      False  YR2019  NY.GDP.PCAP.KD\n",
      "...            ...             ...     ...        ...     ...             ...\n",
      "85115          NaN  BM.GSR.GNFS.CD     AFE       True  YR1964  BM.GSR.GNFS.CD\n",
      "85116          NaN  BM.GSR.GNFS.CD     AFE       True  YR1963  BM.GSR.GNFS.CD\n",
      "85117          NaN  BM.GSR.GNFS.CD     AFE       True  YR1962  BM.GSR.GNFS.CD\n",
      "85118          NaN  BM.GSR.GNFS.CD     AFE       True  YR1961  BM.GSR.GNFS.CD\n",
      "85119          NaN  BM.GSR.GNFS.CD     AFE       True  YR1960  BM.GSR.GNFS.CD\n",
      "\n",
      "[85120 rows x 6 columns]\n"
     ]
    }
   ],
   "source": [
    "indicators = [\n",
    "    \"NY.GDP.PCAP.KD\", # GDP per capita (current US$)\n",
    "    \"NY.GDP.MKTP.KD.ZG\", # GDP growth (annual %)\n",
    "    \"SL.UEM.TOTL.ZS\", # Unemployment, total (% of total labor force)\n",
    "    \"FP.CPI.TOTL.ZG\", # Inflation, consumer prices (annual %)\n",
    "]\n",
    "path = 'data/economy.csv'\n",
    "fetch_data(indicators, path)"
   ]
  },
  {
   "cell_type": "code",
   "execution_count": 7,
   "metadata": {},
   "outputs": [
    {
     "name": "stdout",
     "output_type": "stream",
     "text": [
      "           value          series economy  aggregate    time       indicator\n",
      "0            NaN  SP.DYN.LE00.IN     ZWE      False  YR2023  SP.DYN.LE00.IN\n",
      "1      59.391000  SP.DYN.LE00.IN     ZWE      False  YR2022  SP.DYN.LE00.IN\n",
      "2      59.253000  SP.DYN.LE00.IN     ZWE      False  YR2021  SP.DYN.LE00.IN\n",
      "3      61.124000  SP.DYN.LE00.IN     ZWE      False  YR2020  SP.DYN.LE00.IN\n",
      "4      61.292000  SP.DYN.LE00.IN     ZWE      False  YR2019  SP.DYN.LE00.IN\n",
      "...          ...             ...     ...        ...     ...             ...\n",
      "51067   2.806915     SP.POP.GROW     AFE       True  YR1964     SP.POP.GROW\n",
      "51068   2.753248     SP.POP.GROW     AFE       True  YR1963     SP.POP.GROW\n",
      "51069   2.732633     SP.POP.GROW     AFE       True  YR1962     SP.POP.GROW\n",
      "51070   2.660180     SP.POP.GROW     AFE       True  YR1961     SP.POP.GROW\n",
      "51071        NaN     SP.POP.GROW     AFE       True  YR1960     SP.POP.GROW\n",
      "\n",
      "[51072 rows x 6 columns]\n"
     ]
    }
   ],
   "source": [
    "indicators = [\n",
    "    \"SP.DYN.LE00.IN\", # Life expectancy at birth\n",
    "    \"SH.DYN.MORT\", # Infant Mortality Rate\n",
    "    \"SP.POP.GROW\",  # Population growth (annual %)\n",
    "]\n",
    "path = 'data/population.csv'\n",
    "fetch_data(indicators, path)"
   ]
  },
  {
   "cell_type": "code",
   "execution_count": 8,
   "metadata": {},
   "outputs": [
    {
     "name": "stdout",
     "output_type": "stream",
     "text": [
      "           value             series economy  aggregate    time  \\\n",
      "0            NaN     SE.ADT.LITR.ZS     ZWE      False  YR2023   \n",
      "1      89.849998     SE.ADT.LITR.ZS     ZWE      False  YR2022   \n",
      "2            NaN     SE.ADT.LITR.ZS     ZWE      False  YR2021   \n",
      "3            NaN     SE.ADT.LITR.ZS     ZWE      False  YR2020   \n",
      "4      93.227547     SE.ADT.LITR.ZS     ZWE      False  YR2019   \n",
      "...          ...                ...     ...        ...     ...   \n",
      "51067        NaN  SE.PRM.ENRL.TC.ZS     AFE       True  YR1964   \n",
      "51068        NaN  SE.PRM.ENRL.TC.ZS     AFE       True  YR1963   \n",
      "51069        NaN  SE.PRM.ENRL.TC.ZS     AFE       True  YR1962   \n",
      "51070        NaN  SE.PRM.ENRL.TC.ZS     AFE       True  YR1961   \n",
      "51071        NaN  SE.PRM.ENRL.TC.ZS     AFE       True  YR1960   \n",
      "\n",
      "               indicator  \n",
      "0         SE.ADT.LITR.ZS  \n",
      "1         SE.ADT.LITR.ZS  \n",
      "2         SE.ADT.LITR.ZS  \n",
      "3         SE.ADT.LITR.ZS  \n",
      "4         SE.ADT.LITR.ZS  \n",
      "...                  ...  \n",
      "51067  SE.PRM.ENRL.TC.ZS  \n",
      "51068  SE.PRM.ENRL.TC.ZS  \n",
      "51069  SE.PRM.ENRL.TC.ZS  \n",
      "51070  SE.PRM.ENRL.TC.ZS  \n",
      "51071  SE.PRM.ENRL.TC.ZS  \n",
      "\n",
      "[51072 rows x 6 columns]\n"
     ]
    }
   ],
   "source": [
    "indicators = [\n",
    "    \"SE.ADT.LITR.ZS\", # Literacy Rate\n",
    "    \"SE.XPD.TOTL.GD.ZS\", # Government expenditure on education\n",
    "    \"SE.PRM.ENRL.TC.ZS\" # pupil-teacher ratio\n",
    "]\n",
    "path = 'data/education.csv'\n",
    "fetch_data(indicators, path)"
   ]
  },
  {
   "cell_type": "code",
   "execution_count": null,
   "metadata": {},
   "outputs": [],
   "source": []
  }
 ],
 "metadata": {
  "kernelspec": {
   "display_name": "base",
   "language": "python",
   "name": "python3"
  },
  "language_info": {
   "codemirror_mode": {
    "name": "ipython",
    "version": 3
   },
   "file_extension": ".py",
   "mimetype": "text/x-python",
   "name": "python",
   "nbconvert_exporter": "python",
   "pygments_lexer": "ipython3",
   "version": "3.11.4"
  }
 },
 "nbformat": 4,
 "nbformat_minor": 2
}
