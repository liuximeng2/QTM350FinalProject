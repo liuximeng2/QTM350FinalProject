{
 "cells": [
  {
   "cell_type": "code",
   "execution_count": 1,
   "metadata": {},
   "outputs": [
    {
     "name": "stdout",
     "output_type": "stream",
     "text": [
      "             value             series economy  aggregate    time  \\\n",
      "0      1383.233130     NY.GDP.PCAP.KD     ZWE      False  YR2023   \n",
      "1      1345.769083     NY.GDP.PCAP.KD     ZWE      False  YR2022   \n",
      "2      1289.199067     NY.GDP.PCAP.KD     ZWE      False  YR2021   \n",
      "3      1213.117057     NY.GDP.PCAP.KD     ZWE      False  YR2020   \n",
      "4      1342.989586     NY.GDP.PCAP.KD     ZWE      False  YR2019   \n",
      "...            ...                ...     ...        ...     ...   \n",
      "51067     4.668135  NY.GDP.MKTP.KD.ZG     AFE       True  YR1964   \n",
      "51068     5.616400  NY.GDP.MKTP.KD.ZG     AFE       True  YR1963   \n",
      "51069     7.868013  NY.GDP.MKTP.KD.ZG     AFE       True  YR1962   \n",
      "51070     0.460106  NY.GDP.MKTP.KD.ZG     AFE       True  YR1961   \n",
      "51071          NaN  NY.GDP.MKTP.KD.ZG     AFE       True  YR1960   \n",
      "\n",
      "               indicator  \n",
      "0         NY.GDP.PCAP.KD  \n",
      "1         NY.GDP.PCAP.KD  \n",
      "2         NY.GDP.PCAP.KD  \n",
      "3         NY.GDP.PCAP.KD  \n",
      "4         NY.GDP.PCAP.KD  \n",
      "...                  ...  \n",
      "51067  NY.GDP.MKTP.KD.ZG  \n",
      "51068  NY.GDP.MKTP.KD.ZG  \n",
      "51069  NY.GDP.MKTP.KD.ZG  \n",
      "51070  NY.GDP.MKTP.KD.ZG  \n",
      "51071  NY.GDP.MKTP.KD.ZG  \n",
      "\n",
      "[51072 rows x 6 columns]\n",
      "           value       series economy  aggregate    time    indicator\n",
      "0            NaN  SE.PRM.ENRR     ZWE      False  YR2023  SE.PRM.ENRR\n",
      "1      95.789907  SE.PRM.ENRR     ZWE      False  YR2022  SE.PRM.ENRR\n",
      "2      96.015148  SE.PRM.ENRR     ZWE      False  YR2021  SE.PRM.ENRR\n",
      "3      97.384162  SE.PRM.ENRR     ZWE      False  YR2020  SE.PRM.ENRR\n",
      "4      97.476614  SE.PRM.ENRR     ZWE      False  YR2019  SE.PRM.ENRR\n",
      "...          ...          ...     ...        ...     ...          ...\n",
      "51067        NaN  SE.TER.ENRR     AFE       True  YR1964  SE.TER.ENRR\n",
      "51068        NaN  SE.TER.ENRR     AFE       True  YR1963  SE.TER.ENRR\n",
      "51069        NaN  SE.TER.ENRR     AFE       True  YR1962  SE.TER.ENRR\n",
      "51070        NaN  SE.TER.ENRR     AFE       True  YR1961  SE.TER.ENRR\n",
      "51071        NaN  SE.TER.ENRR     AFE       True  YR1960  SE.TER.ENRR\n",
      "\n",
      "[51072 rows x 6 columns]\n",
      "            value          series economy  aggregate    time       indicator\n",
      "0             NaN  SP.DYN.LE00.IN     ZWE      False  YR2023  SP.DYN.LE00.IN\n",
      "1       59.391000  SP.DYN.LE00.IN     ZWE      False  YR2022  SP.DYN.LE00.IN\n",
      "2       59.253000  SP.DYN.LE00.IN     ZWE      False  YR2021  SP.DYN.LE00.IN\n",
      "3       61.124000  SP.DYN.LE00.IN     ZWE      False  YR2020  SP.DYN.LE00.IN\n",
      "4       61.292000  SP.DYN.LE00.IN     ZWE      False  YR2019  SP.DYN.LE00.IN\n",
      "...           ...             ...     ...        ...     ...             ...\n",
      "51067  143.456933     SP.ADO.TFRT     AFE       True  YR1964     SP.ADO.TFRT\n",
      "51068  142.324951     SP.ADO.TFRT     AFE       True  YR1963     SP.ADO.TFRT\n",
      "51069  141.664168     SP.ADO.TFRT     AFE       True  YR1962     SP.ADO.TFRT\n",
      "51070  140.810248     SP.ADO.TFRT     AFE       True  YR1961     SP.ADO.TFRT\n",
      "51071  140.180526     SP.ADO.TFRT     AFE       True  YR1960     SP.ADO.TFRT\n",
      "\n",
      "[51072 rows x 6 columns]\n"
     ]
    }
   ],
   "source": [
    "import pandas as pd\n",
    "import sqlite3\n",
    "import os\n",
    "\n",
    "directory = os.path.join(os.path.dirname(os.getcwd()), \"data\")\n",
    "csv_files = [\"economy.csv\", \"education.csv\", \"population.csv\"]\n",
    "\n",
    "conn = sqlite3.connect(os.path.join(os.path.dirname(os.getcwd()), \"data\", \"indicators.db\"))\n",
    "cursor = conn.cursor()\n",
    "\n",
    "for i, file in enumerate(csv_files, start=1):\n",
    "    file_path = os.path.join(directory, file)\n",
    "    table_name = f\"table{i}\"\n",
    "    df = pd.read_csv(file_path)\n",
    "    print(df)\n",
    "    df.to_sql(table_name, conn, if_exists=\"replace\", index=False)\n",
    "\n",
    "with open(os.path.join(os.path.dirname(os.getcwd()), \"script\", \"extract_data.sql\"), \"r\") as file:\n",
    "    query = file.read()\n",
    "\n",
    "result_df = pd.read_sql_query(query, conn)\n",
    "output_file = os.path.join(os.path.dirname(os.getcwd()), \"data\", \"clean_data.csv\")\n",
    "result_df.to_csv(output_file, index=False)\n",
    "conn.close()\n"
   ]
  },
  {
   "cell_type": "code",
   "execution_count": null,
   "metadata": {},
   "outputs": [],
   "source": []
  }
 ],
 "metadata": {
  "kernelspec": {
   "display_name": "spirit",
   "language": "python",
   "name": "python3"
  },
  "language_info": {
   "codemirror_mode": {
    "name": "ipython",
    "version": 3
   },
   "file_extension": ".py",
   "mimetype": "text/x-python",
   "name": "python",
   "nbconvert_exporter": "python",
   "pygments_lexer": "ipython3",
   "version": "3.12.5"
  }
 },
 "nbformat": 4,
 "nbformat_minor": 2
}
