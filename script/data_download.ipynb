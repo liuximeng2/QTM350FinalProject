{
 "cells": [
  {
   "cell_type": "code",
   "execution_count": 16,
   "metadata": {},
   "outputs": [],
   "source": [
    "import wbgapi as wb\n",
    "import pandas as pd\n",
    "\n",
    "def fetch_data(indicators, directory):\n",
    "    data = {}\n",
    "    for indicator in indicators:\n",
    "        data[indicator] = wb.data.fetch(indicator)\n",
    "\n",
    "    df_list = []\n",
    "    for indicator, records in data.items():\n",
    "        df = pd.DataFrame.from_records(records)\n",
    "        df['indicator'] = indicator\n",
    "        df_list.append(df)\n",
    "\n",
    "    result_df = pd.concat(df_list, ignore_index=True)\n",
    "    result_df.to_csv(directory, index=False)\n",
    "\n",
    "    print(result_df)\n"
   ]
  },
  {
   "cell_type": "code",
   "execution_count": null,
   "metadata": {},
   "outputs": [],
   "source": [
    "indicators = [\n",
    "    \"NY.GDP.PCAP.KD\",\n",
    "    \"SL.EMP.TOTL.SP.ZS\",\n",
    "    \"NY.GDP.MKTP.KD.ZG\",\n",
    "]\n",
    "path = '/Users/liusongyuan/Documents/VScode/EmoryCourse/QTM350/QTM350FinalProject/data/economy.csv'\n",
    "fetch_data(indicators, path)"
   ]
  },
  {
   "cell_type": "code",
   "execution_count": null,
   "metadata": {},
   "outputs": [],
   "source": [
    "indicators = [\n",
    "    'SP.DYN.LE00.IN',\n",
    "    'SH.DYN.MORT',\n",
    "    'SP.ADO.TFRT'\n",
    "]\n",
    "path = '/Users/liusongyuan/Documents/VScode/EmoryCourse/QTM350/QTM350FinalProject/data/population.csv'\n",
    "fetch_data(indicators, path)"
   ]
  },
  {
   "cell_type": "code",
   "execution_count": null,
   "metadata": {},
   "outputs": [],
   "source": [
    "indicators = [\n",
    "    'SE.PRM.ENRR',\n",
    "    'SE.SEC.ENRR',\n",
    "    'SE.TER.ENRR'\n",
    "]\n",
    "path = '/Users/liusongyuan/Documents/VScode/EmoryCourse/QTM350/QTM350FinalProject/data/education.csv'\n",
    "fetch_data(indicators, path)"
   ]
  }
 ],
 "metadata": {
  "kernelspec": {
   "display_name": "spirit",
   "language": "python",
   "name": "python3"
  },
  "language_info": {
   "codemirror_mode": {
    "name": "ipython",
    "version": 3
   },
   "file_extension": ".py",
   "mimetype": "text/x-python",
   "name": "python",
   "nbconvert_exporter": "python",
   "pygments_lexer": "ipython3",
   "version": "3.12.5"
  }
 },
 "nbformat": 4,
 "nbformat_minor": 2
}
