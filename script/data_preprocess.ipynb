{
 "cells": [
  {
   "cell_type": "code",
   "execution_count": 6,
   "metadata": {},
   "outputs": [
    {
     "name": "stdout",
     "output_type": "stream",
     "text": [
      "             value          series economy  aggregate    time       indicator\n",
      "0      1383.233130  NY.GDP.PCAP.KD     ZWE      False  YR2023  NY.GDP.PCAP.KD\n",
      "1      1345.769083  NY.GDP.PCAP.KD     ZWE      False  YR2022  NY.GDP.PCAP.KD\n",
      "2      1289.199067  NY.GDP.PCAP.KD     ZWE      False  YR2021  NY.GDP.PCAP.KD\n",
      "3      1213.117057  NY.GDP.PCAP.KD     ZWE      False  YR2020  NY.GDP.PCAP.KD\n",
      "4      1342.989586  NY.GDP.PCAP.KD     ZWE      False  YR2019  NY.GDP.PCAP.KD\n",
      "...            ...             ...     ...        ...     ...             ...\n",
      "85115          NaN  BM.GSR.GNFS.CD     AFE       True  YR1964  BM.GSR.GNFS.CD\n",
      "85116          NaN  BM.GSR.GNFS.CD     AFE       True  YR1963  BM.GSR.GNFS.CD\n",
      "85117          NaN  BM.GSR.GNFS.CD     AFE       True  YR1962  BM.GSR.GNFS.CD\n",
      "85118          NaN  BM.GSR.GNFS.CD     AFE       True  YR1961  BM.GSR.GNFS.CD\n",
      "85119          NaN  BM.GSR.GNFS.CD     AFE       True  YR1960  BM.GSR.GNFS.CD\n",
      "\n",
      "[85120 rows x 6 columns]\n",
      "           value             series economy  aggregate    time  \\\n",
      "0            NaN     SE.ADT.LITR.ZS     ZWE      False  YR2023   \n",
      "1      89.849998     SE.ADT.LITR.ZS     ZWE      False  YR2022   \n",
      "2            NaN     SE.ADT.LITR.ZS     ZWE      False  YR2021   \n",
      "3            NaN     SE.ADT.LITR.ZS     ZWE      False  YR2020   \n",
      "4      93.227547     SE.ADT.LITR.ZS     ZWE      False  YR2019   \n",
      "...          ...                ...     ...        ...     ...   \n",
      "51067        NaN  SE.PRM.ENRL.TC.ZS     AFE       True  YR1964   \n",
      "51068        NaN  SE.PRM.ENRL.TC.ZS     AFE       True  YR1963   \n",
      "51069        NaN  SE.PRM.ENRL.TC.ZS     AFE       True  YR1962   \n",
      "51070        NaN  SE.PRM.ENRL.TC.ZS     AFE       True  YR1961   \n",
      "51071        NaN  SE.PRM.ENRL.TC.ZS     AFE       True  YR1960   \n",
      "\n",
      "               indicator  \n",
      "0         SE.ADT.LITR.ZS  \n",
      "1         SE.ADT.LITR.ZS  \n",
      "2         SE.ADT.LITR.ZS  \n",
      "3         SE.ADT.LITR.ZS  \n",
      "4         SE.ADT.LITR.ZS  \n",
      "...                  ...  \n",
      "51067  SE.PRM.ENRL.TC.ZS  \n",
      "51068  SE.PRM.ENRL.TC.ZS  \n",
      "51069  SE.PRM.ENRL.TC.ZS  \n",
      "51070  SE.PRM.ENRL.TC.ZS  \n",
      "51071  SE.PRM.ENRL.TC.ZS  \n",
      "\n",
      "[51072 rows x 6 columns]\n",
      "           value          series economy  aggregate    time       indicator\n",
      "0            NaN  SP.DYN.LE00.IN     ZWE      False  YR2023  SP.DYN.LE00.IN\n",
      "1      59.391000  SP.DYN.LE00.IN     ZWE      False  YR2022  SP.DYN.LE00.IN\n",
      "2      59.253000  SP.DYN.LE00.IN     ZWE      False  YR2021  SP.DYN.LE00.IN\n",
      "3      61.124000  SP.DYN.LE00.IN     ZWE      False  YR2020  SP.DYN.LE00.IN\n",
      "4      61.292000  SP.DYN.LE00.IN     ZWE      False  YR2019  SP.DYN.LE00.IN\n",
      "...          ...             ...     ...        ...     ...             ...\n",
      "51067   2.806915     SP.POP.GROW     AFE       True  YR1964     SP.POP.GROW\n",
      "51068   2.753248     SP.POP.GROW     AFE       True  YR1963     SP.POP.GROW\n",
      "51069   2.732633     SP.POP.GROW     AFE       True  YR1962     SP.POP.GROW\n",
      "51070   2.660180     SP.POP.GROW     AFE       True  YR1961     SP.POP.GROW\n",
      "51071        NaN     SP.POP.GROW     AFE       True  YR1960     SP.POP.GROW\n",
      "\n",
      "[51072 rows x 6 columns]\n"
     ]
    }
   ],
   "source": [
    "import pandas as pd\n",
    "import sqlite3\n",
    "import os\n",
    "\n",
    "directory = os.path.join(os.path.dirname(os.getcwd()), \"data\")\n",
    "csv_files = [\"economy.csv\", \"education.csv\", \"population.csv\"]\n",
    "\n",
    "conn = sqlite3.connect(os.path.join(os.path.dirname(os.getcwd()), \"data\", \"indicators.db\"))\n",
    "cursor = conn.cursor()\n",
    "\n",
    "for i, file in enumerate(csv_files, start=1):\n",
    "    file_path = os.path.join(directory, file)\n",
    "    table_name = f\"table{i}\"\n",
    "    df = pd.read_csv(file_path)\n",
    "    print(df)\n",
    "    df.to_sql(table_name, conn, if_exists=\"replace\", index=False)\n",
    "\n",
    "with open(os.path.join(os.path.dirname(os.getcwd()), \"script\", \"extract_data.sql\"), \"r\") as file:\n",
    "    query = file.read()\n",
    "\n",
    "result_df = pd.read_sql_query(query, conn)\n",
    "output_file = os.path.join(os.path.dirname(os.getcwd()), \"data\", \"clean_data.csv\")\n",
    "result_df.to_csv(output_file, index=False)\n",
    "conn.close()\n"
   ]
  }
 ],
 "metadata": {
  "kernelspec": {
   "display_name": "base",
   "language": "python",
   "name": "python3"
  },
  "language_info": {
   "codemirror_mode": {
    "name": "ipython",
    "version": 3
   },
   "file_extension": ".py",
   "mimetype": "text/x-python",
   "name": "python",
   "nbconvert_exporter": "python",
   "pygments_lexer": "ipython3",
   "version": "3.11.4"
  }
 },
 "nbformat": 4,
 "nbformat_minor": 2
}
